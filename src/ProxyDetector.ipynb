{
 "cells": [
  {
   "cell_type": "code",
   "execution_count": null,
   "id": "3e3128b1-8ccd-4084-a866-c3d18fb17965",
   "metadata": {},
   "outputs": [],
   "source": [
    "from abc import ABC, abstractmethod\n",
    "\n",
    "class BaseProxyDetector(ABC):\n",
    "    \n",
    "    @abstractmethod\n",
    "    def is_proxy(self, contract_bytecode_path):\n",
    "        \"\"\"\n",
    "        Abstract method to determine if the given contract is a proxy.\n",
    "        \n",
    "        Parameters:\n",
    "            contract_bytecode_path (str): The file path to the contract bytecode.\n",
    "            \n",
    "        Returns:\n",
    "            bool: True if it is a proxy, False otherwise.\n",
    "        \"\"\"\n",
    "        pass\n",
    "    \n",
    "    @abstractmethod\n",
    "    def is_proxy_batch(self, contract_bytecode_paths):\n",
    "        \"\"\"\n",
    "        Abstract method to determine if a list of contracts are proxies.\n",
    "        \n",
    "        Parameters:\n",
    "            contract_bytecode_paths (list of str): The list of file paths to the contracts bytecodes.\n",
    "            \n",
    "        Returns:\n",
    "            list of bool: List containing True if the corresponding contract is a proxy, False otherwise.\n",
    "        \"\"\"\n",
    "        pass\n"
   ]
  },
  {
   "cell_type": "code",
   "execution_count": null,
   "id": "dc58a388-3366-4aaf-ab11-af2e52a748e3",
   "metadata": {},
   "outputs": [],
   "source": []
  },
  {
   "cell_type": "code",
   "execution_count": null,
   "id": "c62522f2-44d8-4862-ac5a-557fbce93bc9",
   "metadata": {},
   "outputs": [],
   "source": []
  }
 ],
 "metadata": {
  "kernelspec": {
   "display_name": "Python 3 (ipykernel)",
   "language": "python",
   "name": "python3"
  },
  "language_info": {
   "codemirror_mode": {
    "name": "ipython",
    "version": 3
   },
   "file_extension": ".py",
   "mimetype": "text/x-python",
   "name": "python",
   "nbconvert_exporter": "python",
   "pygments_lexer": "ipython3",
   "version": "3.8.9"
  }
 },
 "nbformat": 4,
 "nbformat_minor": 5
}
