{
 "cells": [
  {
   "cell_type": "code",
   "execution_count": 4,
   "id": "4b49c890-77f8-4b5b-8f77-9f7b0823d3de",
   "metadata": {},
   "outputs": [],
   "source": [
    "from abc import ABC, abstractmethod\n",
    "from overrides import overrides\n",
    "%run ./Utils.ipynb\n",
    "\n",
    "class BaseProxyDetector:\n",
    "    @abstractmethod\n",
    "    def identify_proxies(self, contracts_list):\n",
    "        \"\"\"\n",
    "        Orchestrates the process to classify each contract in the given list as active proxy proxy or non-proxy.\n",
    "            \n",
    "        Parameters:\n",
    "            contracts_list (str): list of Ethereum mainnet contract addresses\n",
    "            \n",
    "        Returns: create a table in which is labeled as True or False under is_active_proxy column. \n",
    "                 True means that the contract is an active proxy\n",
    "        \"\"\"\n",
    "        pass\n",
    "    \n",
    "    @abstractmethod\n",
    "    def identify_proxies_as_of(self, as_of_timestamp=Utils.STUDY_END_DATE):\n",
    "        \"\"\"\n",
    "        Orchestrates the process to classify each contract in the given list as active proxy proxy or non-proxy.\n",
    "        \n",
    "        Parameters:\n",
    "            as_of_timestamp: A string representation of the timestamp, formatted as 'YYYY-MM-DD',\n",
    "                             that defines the upper limit for data collection and processing. \n",
    "                             Defaults to '2022-09-01' which replicates the data for our recent publication.\n",
    "            \n",
    "        Returns: create a table in which is labeled as True or False under is_active_proxy column. \n",
    "                 True means that the contract is an active proxy        \n",
    "        \"\"\"\n",
    "        pass\n"
   ]
  },
  {
   "cell_type": "code",
   "execution_count": null,
   "id": "5536536a-01bb-4b1c-b4c2-a75e133cdc48",
   "metadata": {},
   "outputs": [],
   "source": []
  }
 ],
 "metadata": {
  "kernelspec": {
   "display_name": "Python 3 (ipykernel)",
   "language": "python",
   "name": "python3"
  },
  "language_info": {
   "codemirror_mode": {
    "name": "ipython",
    "version": 3
   },
   "file_extension": ".py",
   "mimetype": "text/x-python",
   "name": "python",
   "nbconvert_exporter": "python",
   "pygments_lexer": "ipython3",
   "version": "3.8.9"
  }
 },
 "nbformat": 4,
 "nbformat_minor": 5
}
